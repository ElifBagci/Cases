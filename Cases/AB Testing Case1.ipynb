{
 "cells": [
  {
   "attachments": {},
   "cell_type": "markdown",
   "metadata": {},
   "source": [
    "## AB Testi ile Bidding Yöntemlerinin Dönüşümünün Karşılaştırılması"
   ]
  },
  {
   "attachments": {},
   "cell_type": "markdown",
   "metadata": {},
   "source": [
    "Facebook kısa süre önce mevcut \"maximum bidding\" adı verilen teklif verme türüne alternatif olarak yeni bir teklif türü olan \"average bidding\"’i tanıttı.\n",
    "\n",
    "Müşterilerimizden biri olan bombabomba.com, bu yeni özelliği test etmeye karar verdi ve average bidding'in maximum bidding'den daha fazla dönüşüm getirip getirmediğini anlamak için bir A/B testi yapmak istiyor.\n",
    "\n",
    "\n",
    "A/B testi 1 aydır devam ediyor ve bombabomba.com şimdi sizden bu A/B testinin sonuçlarını analiz etmenizi bekliyor. Bombabomba.com için nihai başarı ölçütü Purchase'dır. Bu nedenle, istatistiksel testler için Purchase metriğine odaklanılmalıdır."
   ]
  },
  {
   "attachments": {},
   "cell_type": "markdown",
   "metadata": {},
   "source": [
    "Bir firmanın web site bilgilerini içeren bu veri setinde kullanıcıların gördükleri ve tıkladıkları reklam sayıları gibi bilgilerin yanı sıra buradan gelen kazanç bilgileri yer almaktadır. Kontrol ve Test grubu olmak üzere iki ayrı veri seti vardır. Bu veri setleri ab_testing.xlsx excel’inin ayrı sayfalarında yer almaktadır. Kontrol grubuna Maximum Bidding, test grubuna Average Bidding uygulanmıştır."
   ]
  },
  {
   "attachments": {},
   "cell_type": "markdown",
   "metadata": {},
   "source": [
    "#### Görev 1: Veriyi Hazırlama ve Analiz Etme"
   ]
  },
  {
   "cell_type": "code",
   "execution_count": 1,
   "metadata": {},
   "outputs": [],
   "source": [
    "import numpy as np\n",
    "import pandas as pd\n",
    "import matplotlib.pyplot as plt\n",
    "from scipy.stats import shapiro, levene, ttest_ind"
   ]
  },
  {
   "cell_type": "code",
   "execution_count": 4,
   "metadata": {},
   "outputs": [],
   "source": [
    "# Verilerimizi okutuyoruz. Ancak Test ve Control grubunu ayrı ayrı atıyoruz; \n",
    "dataframe_control = pd.read_excel(\"dataset/ab_testing.xlsx\" , sheet_name=\"Control Group\")\n",
    "dataframe_test = pd.read_excel(\"dataset/ab_testing.xlsx\" , sheet_name=\"Test Group\")"
   ]
  },
  {
   "cell_type": "code",
   "execution_count": 5,
   "metadata": {},
   "outputs": [
    {
     "data": {
      "text/html": [
       "<div>\n",
       "<style scoped>\n",
       "    .dataframe tbody tr th:only-of-type {\n",
       "        vertical-align: middle;\n",
       "    }\n",
       "\n",
       "    .dataframe tbody tr th {\n",
       "        vertical-align: top;\n",
       "    }\n",
       "\n",
       "    .dataframe thead th {\n",
       "        text-align: right;\n",
       "    }\n",
       "</style>\n",
       "<table border=\"1\" class=\"dataframe\">\n",
       "  <thead>\n",
       "    <tr style=\"text-align: right;\">\n",
       "      <th></th>\n",
       "      <th>Impression</th>\n",
       "      <th>Click</th>\n",
       "      <th>Purchase</th>\n",
       "      <th>Earning</th>\n",
       "    </tr>\n",
       "  </thead>\n",
       "  <tbody>\n",
       "    <tr>\n",
       "      <th>0</th>\n",
       "      <td>82529.459271</td>\n",
       "      <td>6090.077317</td>\n",
       "      <td>665.211255</td>\n",
       "      <td>2311.277143</td>\n",
       "    </tr>\n",
       "    <tr>\n",
       "      <th>1</th>\n",
       "      <td>98050.451926</td>\n",
       "      <td>3382.861786</td>\n",
       "      <td>315.084895</td>\n",
       "      <td>1742.806855</td>\n",
       "    </tr>\n",
       "    <tr>\n",
       "      <th>2</th>\n",
       "      <td>82696.023549</td>\n",
       "      <td>4167.965750</td>\n",
       "      <td>458.083738</td>\n",
       "      <td>1797.827447</td>\n",
       "    </tr>\n",
       "    <tr>\n",
       "      <th>3</th>\n",
       "      <td>109914.400398</td>\n",
       "      <td>4910.882240</td>\n",
       "      <td>487.090773</td>\n",
       "      <td>1696.229178</td>\n",
       "    </tr>\n",
       "    <tr>\n",
       "      <th>4</th>\n",
       "      <td>108457.762630</td>\n",
       "      <td>5987.655811</td>\n",
       "      <td>441.034050</td>\n",
       "      <td>1543.720179</td>\n",
       "    </tr>\n",
       "  </tbody>\n",
       "</table>\n",
       "</div>"
      ],
      "text/plain": [
       "      Impression        Click    Purchase      Earning\n",
       "0   82529.459271  6090.077317  665.211255  2311.277143\n",
       "1   98050.451926  3382.861786  315.084895  1742.806855\n",
       "2   82696.023549  4167.965750  458.083738  1797.827447\n",
       "3  109914.400398  4910.882240  487.090773  1696.229178\n",
       "4  108457.762630  5987.655811  441.034050  1543.720179"
      ]
     },
     "execution_count": 5,
     "metadata": {},
     "output_type": "execute_result"
    }
   ],
   "source": [
    "dataframe_control.head()"
   ]
  },
  {
   "cell_type": "code",
   "execution_count": 6,
   "metadata": {},
   "outputs": [
    {
     "data": {
      "text/html": [
       "<div>\n",
       "<style scoped>\n",
       "    .dataframe tbody tr th:only-of-type {\n",
       "        vertical-align: middle;\n",
       "    }\n",
       "\n",
       "    .dataframe tbody tr th {\n",
       "        vertical-align: top;\n",
       "    }\n",
       "\n",
       "    .dataframe thead th {\n",
       "        text-align: right;\n",
       "    }\n",
       "</style>\n",
       "<table border=\"1\" class=\"dataframe\">\n",
       "  <thead>\n",
       "    <tr style=\"text-align: right;\">\n",
       "      <th></th>\n",
       "      <th>Impression</th>\n",
       "      <th>Click</th>\n",
       "      <th>Purchase</th>\n",
       "      <th>Earning</th>\n",
       "    </tr>\n",
       "  </thead>\n",
       "  <tbody>\n",
       "    <tr>\n",
       "      <th>0</th>\n",
       "      <td>120103.503796</td>\n",
       "      <td>3216.547958</td>\n",
       "      <td>702.160346</td>\n",
       "      <td>1939.611243</td>\n",
       "    </tr>\n",
       "    <tr>\n",
       "      <th>1</th>\n",
       "      <td>134775.943363</td>\n",
       "      <td>3635.082422</td>\n",
       "      <td>834.054286</td>\n",
       "      <td>2929.405820</td>\n",
       "    </tr>\n",
       "    <tr>\n",
       "      <th>2</th>\n",
       "      <td>107806.620788</td>\n",
       "      <td>3057.143560</td>\n",
       "      <td>422.934258</td>\n",
       "      <td>2526.244877</td>\n",
       "    </tr>\n",
       "    <tr>\n",
       "      <th>3</th>\n",
       "      <td>116445.275526</td>\n",
       "      <td>4650.473911</td>\n",
       "      <td>429.033535</td>\n",
       "      <td>2281.428574</td>\n",
       "    </tr>\n",
       "    <tr>\n",
       "      <th>4</th>\n",
       "      <td>145082.516838</td>\n",
       "      <td>5201.387724</td>\n",
       "      <td>749.860442</td>\n",
       "      <td>2781.697521</td>\n",
       "    </tr>\n",
       "  </tbody>\n",
       "</table>\n",
       "</div>"
      ],
      "text/plain": [
       "      Impression        Click    Purchase      Earning\n",
       "0  120103.503796  3216.547958  702.160346  1939.611243\n",
       "1  134775.943363  3635.082422  834.054286  2929.405820\n",
       "2  107806.620788  3057.143560  422.934258  2526.244877\n",
       "3  116445.275526  4650.473911  429.033535  2281.428574\n",
       "4  145082.516838  5201.387724  749.860442  2781.697521"
      ]
     },
     "execution_count": 6,
     "metadata": {},
     "output_type": "execute_result"
    }
   ],
   "source": [
    "dataframe_test.head()"
   ]
  },
  {
   "cell_type": "code",
   "execution_count": 11,
   "metadata": {},
   "outputs": [
    {
     "name": "stdout",
     "output_type": "stream",
     "text": [
      "###################SHAPE###################\n",
      "(40, 4)\n",
      "###################TYPE###################\n",
      "Impression    float64\n",
      "Click         float64\n",
      "Purchase      float64\n",
      "Earning       float64\n",
      "dtype: object\n",
      "###################TAIL###################\n",
      "       Impression        Click    Purchase      Earning\n",
      "35  132064.219003  3747.157544  551.072406  2256.975589\n",
      "36   86409.941796  4608.256205  345.046033  1781.357690\n",
      "37  123678.934234  3649.073787  476.168128  2187.721217\n",
      "38  101997.494099  4736.353369  474.613537  2254.563834\n",
      "39  121085.881220  4285.178608  590.406020  1289.308948\n",
      "###################NA###################\n",
      "<bound method NDFrame._add_numeric_operations.<locals>.sum of     Impression  Click  Purchase  Earning\n",
      "0        False  False     False    False\n",
      "1        False  False     False    False\n",
      "2        False  False     False    False\n",
      "3        False  False     False    False\n",
      "4        False  False     False    False\n",
      "5        False  False     False    False\n",
      "6        False  False     False    False\n",
      "7        False  False     False    False\n",
      "8        False  False     False    False\n",
      "9        False  False     False    False\n",
      "10       False  False     False    False\n",
      "11       False  False     False    False\n",
      "12       False  False     False    False\n",
      "13       False  False     False    False\n",
      "14       False  False     False    False\n",
      "15       False  False     False    False\n",
      "16       False  False     False    False\n",
      "17       False  False     False    False\n",
      "18       False  False     False    False\n",
      "19       False  False     False    False\n",
      "20       False  False     False    False\n",
      "21       False  False     False    False\n",
      "22       False  False     False    False\n",
      "23       False  False     False    False\n",
      "24       False  False     False    False\n",
      "25       False  False     False    False\n",
      "26       False  False     False    False\n",
      "27       False  False     False    False\n",
      "28       False  False     False    False\n",
      "29       False  False     False    False\n",
      "30       False  False     False    False\n",
      "31       False  False     False    False\n",
      "32       False  False     False    False\n",
      "33       False  False     False    False\n",
      "34       False  False     False    False\n",
      "35       False  False     False    False\n",
      "36       False  False     False    False\n",
      "37       False  False     False    False\n",
      "38       False  False     False    False\n",
      "39       False  False     False    False>\n",
      "###################QUANTİLES###################\n",
      "                    0.00          0.05          0.50           0.95  \\\n",
      "Impression  45475.942965  79412.017920  99790.701078  132950.532455   \n",
      "Click        2189.753157   3367.484257   5001.220602    7374.361202   \n",
      "Purchase      267.028943    328.662425    531.206307     748.270761   \n",
      "Earning      1253.989525   1329.577082   1975.160522    2318.528498   \n",
      "\n",
      "                     0.99           1.00  \n",
      "Impression  143105.791105  147539.336329  \n",
      "Click         7761.795112    7959.125069  \n",
      "Purchase       790.187785     801.795020  \n",
      "Earning       2481.308737    2497.295218  \n",
      "###################SHAPE###################\n",
      "(40, 4)\n",
      "###################TYPE###################\n",
      "Impression    float64\n",
      "Click         float64\n",
      "Purchase      float64\n",
      "Earning       float64\n",
      "dtype: object\n",
      "###################TAIL###################\n",
      "       Impression        Click    Purchase      Earning\n",
      "35   79234.911929  6002.213585  382.047116  2277.863984\n",
      "36  130702.239410  3626.320072  449.824592  2530.841327\n",
      "37  116481.873365  4702.782468  472.453725  2597.917632\n",
      "38   79033.834921  4495.428177  425.359102  2595.857880\n",
      "39  102257.454089  4800.068321  521.310729  2967.518390\n",
      "###################NA###################\n",
      "<bound method NDFrame._add_numeric_operations.<locals>.sum of     Impression  Click  Purchase  Earning\n",
      "0        False  False     False    False\n",
      "1        False  False     False    False\n",
      "2        False  False     False    False\n",
      "3        False  False     False    False\n",
      "4        False  False     False    False\n",
      "5        False  False     False    False\n",
      "6        False  False     False    False\n",
      "7        False  False     False    False\n",
      "8        False  False     False    False\n",
      "9        False  False     False    False\n",
      "10       False  False     False    False\n",
      "11       False  False     False    False\n",
      "12       False  False     False    False\n",
      "13       False  False     False    False\n",
      "14       False  False     False    False\n",
      "15       False  False     False    False\n",
      "16       False  False     False    False\n",
      "17       False  False     False    False\n",
      "18       False  False     False    False\n",
      "19       False  False     False    False\n",
      "20       False  False     False    False\n",
      "21       False  False     False    False\n",
      "22       False  False     False    False\n",
      "23       False  False     False    False\n",
      "24       False  False     False    False\n",
      "25       False  False     False    False\n",
      "26       False  False     False    False\n",
      "27       False  False     False    False\n",
      "28       False  False     False    False\n",
      "29       False  False     False    False\n",
      "30       False  False     False    False\n",
      "31       False  False     False    False\n",
      "32       False  False     False    False\n",
      "33       False  False     False    False\n",
      "34       False  False     False    False\n",
      "35       False  False     False    False\n",
      "36       False  False     False    False\n",
      "37       False  False     False    False\n",
      "38       False  False     False    False\n",
      "39       False  False     False    False>\n",
      "###################QUANTİLES###################\n",
      "                    0.00          0.05           0.50           0.95  \\\n",
      "Impression  79033.834921  83150.503777  119291.300775  153178.691063   \n",
      "Click        1836.629861   2600.361018    3931.359804    5271.186906   \n",
      "Purchase      311.629515    356.695400     551.355732     854.208945   \n",
      "Earning      1939.611243   2080.976213    2544.666107    2931.311449   \n",
      "\n",
      "                     0.99           1.00  \n",
      "Impression  158245.263797  158605.920483  \n",
      "Click         6012.877296    6019.695079  \n",
      "Purchase       876.576104     889.910460  \n",
      "Earning       3091.940894    3171.489708  \n"
     ]
    }
   ],
   "source": [
    "# Bu iki grup için analizlere göz atmak istiyoruz. Ancak hepsine df.shape, df.head şeklinde tek tek yazmak zor. Bu sebeple bir fonksiyon yazıyoruz;\n",
    "def check_df(dataframe, head=5):\n",
    "    print(\"###################SHAPE###################\")\n",
    "    print(dataframe.shape)\n",
    "    print(\"###################TYPE###################\")\n",
    "    print(dataframe.dtypes)\n",
    "    print(\"###################TAIL###################\")\n",
    "    print(dataframe.tail())\n",
    "    print(\"###################NA###################\")\n",
    "    print(dataframe.isnull().sum)\n",
    "    print(\"###################QUANTİLES###################\")\n",
    "    print(dataframe.quantile([0, 0.05, 0.50, 0.95, 0.99, 1]).T)\n",
    "check_df(dataframe_control)\n",
    "#####\n",
    "check_df(dataframe_test)\n"
   ]
  },
  {
   "cell_type": "code",
   "execution_count": 17,
   "metadata": {},
   "outputs": [
    {
     "data": {
      "text/html": [
       "<div>\n",
       "<style scoped>\n",
       "    .dataframe tbody tr th:only-of-type {\n",
       "        vertical-align: middle;\n",
       "    }\n",
       "\n",
       "    .dataframe tbody tr th {\n",
       "        vertical-align: top;\n",
       "    }\n",
       "\n",
       "    .dataframe thead th {\n",
       "        text-align: right;\n",
       "    }\n",
       "</style>\n",
       "<table border=\"1\" class=\"dataframe\">\n",
       "  <thead>\n",
       "    <tr style=\"text-align: right;\">\n",
       "      <th></th>\n",
       "      <th>Impression</th>\n",
       "      <th>Click</th>\n",
       "      <th>Purchase</th>\n",
       "      <th>Earning</th>\n",
       "      <th>group</th>\n",
       "    </tr>\n",
       "  </thead>\n",
       "  <tbody>\n",
       "    <tr>\n",
       "      <th>0</th>\n",
       "      <td>82529.459271</td>\n",
       "      <td>6090.077317</td>\n",
       "      <td>665.211255</td>\n",
       "      <td>2311.277143</td>\n",
       "      <td>control</td>\n",
       "    </tr>\n",
       "    <tr>\n",
       "      <th>1</th>\n",
       "      <td>98050.451926</td>\n",
       "      <td>3382.861786</td>\n",
       "      <td>315.084895</td>\n",
       "      <td>1742.806855</td>\n",
       "      <td>control</td>\n",
       "    </tr>\n",
       "    <tr>\n",
       "      <th>2</th>\n",
       "      <td>82696.023549</td>\n",
       "      <td>4167.965750</td>\n",
       "      <td>458.083738</td>\n",
       "      <td>1797.827447</td>\n",
       "      <td>control</td>\n",
       "    </tr>\n",
       "    <tr>\n",
       "      <th>3</th>\n",
       "      <td>109914.400398</td>\n",
       "      <td>4910.882240</td>\n",
       "      <td>487.090773</td>\n",
       "      <td>1696.229178</td>\n",
       "      <td>control</td>\n",
       "    </tr>\n",
       "    <tr>\n",
       "      <th>4</th>\n",
       "      <td>108457.762630</td>\n",
       "      <td>5987.655811</td>\n",
       "      <td>441.034050</td>\n",
       "      <td>1543.720179</td>\n",
       "      <td>control</td>\n",
       "    </tr>\n",
       "    <tr>\n",
       "      <th>...</th>\n",
       "      <td>...</td>\n",
       "      <td>...</td>\n",
       "      <td>...</td>\n",
       "      <td>...</td>\n",
       "      <td>...</td>\n",
       "    </tr>\n",
       "    <tr>\n",
       "      <th>75</th>\n",
       "      <td>79234.911929</td>\n",
       "      <td>6002.213585</td>\n",
       "      <td>382.047116</td>\n",
       "      <td>2277.863984</td>\n",
       "      <td>test</td>\n",
       "    </tr>\n",
       "    <tr>\n",
       "      <th>76</th>\n",
       "      <td>130702.239410</td>\n",
       "      <td>3626.320072</td>\n",
       "      <td>449.824592</td>\n",
       "      <td>2530.841327</td>\n",
       "      <td>test</td>\n",
       "    </tr>\n",
       "    <tr>\n",
       "      <th>77</th>\n",
       "      <td>116481.873365</td>\n",
       "      <td>4702.782468</td>\n",
       "      <td>472.453725</td>\n",
       "      <td>2597.917632</td>\n",
       "      <td>test</td>\n",
       "    </tr>\n",
       "    <tr>\n",
       "      <th>78</th>\n",
       "      <td>79033.834921</td>\n",
       "      <td>4495.428177</td>\n",
       "      <td>425.359102</td>\n",
       "      <td>2595.857880</td>\n",
       "      <td>test</td>\n",
       "    </tr>\n",
       "    <tr>\n",
       "      <th>79</th>\n",
       "      <td>102257.454089</td>\n",
       "      <td>4800.068321</td>\n",
       "      <td>521.310729</td>\n",
       "      <td>2967.518390</td>\n",
       "      <td>test</td>\n",
       "    </tr>\n",
       "  </tbody>\n",
       "</table>\n",
       "<p>80 rows × 5 columns</p>\n",
       "</div>"
      ],
      "text/plain": [
       "       Impression        Click    Purchase      Earning    group\n",
       "0    82529.459271  6090.077317  665.211255  2311.277143  control\n",
       "1    98050.451926  3382.861786  315.084895  1742.806855  control\n",
       "2    82696.023549  4167.965750  458.083738  1797.827447  control\n",
       "3   109914.400398  4910.882240  487.090773  1696.229178  control\n",
       "4   108457.762630  5987.655811  441.034050  1543.720179  control\n",
       "..            ...          ...         ...          ...      ...\n",
       "75   79234.911929  6002.213585  382.047116  2277.863984     test\n",
       "76  130702.239410  3626.320072  449.824592  2530.841327     test\n",
       "77  116481.873365  4702.782468  472.453725  2597.917632     test\n",
       "78   79033.834921  4495.428177  425.359102  2595.857880     test\n",
       "79  102257.454089  4800.068321  521.310729  2967.518390     test\n",
       "\n",
       "[80 rows x 5 columns]"
      ]
     },
     "execution_count": 17,
     "metadata": {},
     "output_type": "execute_result"
    }
   ],
   "source": [
    "dataframe_control[\"group\"] = \"control\"\n",
    "dataframe_test[\"group\"] = \"test\"\n",
    "# axis 0 ile satır bazlı 1 ile stün bazlı birlieştirme yapılmaktadır. \n",
    "# ignore_index True ile birleştirme kısmında yeniden değil kaldığı yerden indexlemeye devam etmektedir. \n",
    "df = pd.concat([dataframe_control,dataframe_test], axis=0,ignore_index=True)\n",
    "df\n"
   ]
  },
  {
   "attachments": {},
   "cell_type": "markdown",
   "metadata": {},
   "source": [
    "##### Görev 2:  A/B Testinin Hipotezinin Tanımlanması"
   ]
  },
  {
   "cell_type": "code",
   "execution_count": 18,
   "metadata": {},
   "outputs": [],
   "source": [
    "# H0 : M1 = M2 (Kontrol grubu ve test grubu satın alma ortalamaları arasında fark yoktur.)\n",
    "# H1 : M1!= M2 (Kontrol grubu ve test grubu satın alma ortalamaları arasında fark vardır.)"
   ]
  },
  {
   "cell_type": "code",
   "execution_count": 26,
   "metadata": {},
   "outputs": [
    {
     "data": {
      "text/html": [
       "<div>\n",
       "<style scoped>\n",
       "    .dataframe tbody tr th:only-of-type {\n",
       "        vertical-align: middle;\n",
       "    }\n",
       "\n",
       "    .dataframe tbody tr th {\n",
       "        vertical-align: top;\n",
       "    }\n",
       "\n",
       "    .dataframe thead th {\n",
       "        text-align: right;\n",
       "    }\n",
       "</style>\n",
       "<table border=\"1\" class=\"dataframe\">\n",
       "  <thead>\n",
       "    <tr style=\"text-align: right;\">\n",
       "      <th></th>\n",
       "      <th>Purchase</th>\n",
       "    </tr>\n",
       "    <tr>\n",
       "      <th>group</th>\n",
       "      <th></th>\n",
       "    </tr>\n",
       "  </thead>\n",
       "  <tbody>\n",
       "    <tr>\n",
       "      <th>control</th>\n",
       "      <td>550.894059</td>\n",
       "    </tr>\n",
       "    <tr>\n",
       "      <th>test</th>\n",
       "      <td>582.106097</td>\n",
       "    </tr>\n",
       "  </tbody>\n",
       "</table>\n",
       "</div>"
      ],
      "text/plain": [
       "           Purchase\n",
       "group              \n",
       "control  550.894059\n",
       "test     582.106097"
      ]
     },
     "execution_count": 26,
     "metadata": {},
     "output_type": "execute_result"
    }
   ],
   "source": [
    "# iki grup arasındaki ortalamaları kıyaslamak için groupby ile satınalma ortalamalarını getirelim; \n",
    "df.groupby(\"group\").agg({\"Purchase\":\"mean\"})"
   ]
  },
  {
   "cell_type": "code",
   "execution_count": 27,
   "metadata": {},
   "outputs": [],
   "source": [
    "# Yukardan görüldüğü üzere test grubu ve control grubu arasında fark olduğunu görüyoruz. \n",
    "# Peki gerçekten istatistiksel olarak anlamlı bir fark var mı?"
   ]
  },
  {
   "attachments": {},
   "cell_type": "markdown",
   "metadata": {},
   "source": [
    "#### Görev 3: Hipotez Testinin Gerçekleştirilmesi"
   ]
  },
  {
   "attachments": {},
   "cell_type": "markdown",
   "metadata": {},
   "source": [
    "Adım 1: Hipotez testi yapılmadan önce varsayım kontrollerini yapınız.\n",
    "Bunlar Normallik Varsayımı ve Varyans Homojenliğidir. Kontrol ve test grubunun normallik varsayımına uyup uymadığını Purchase değişkeni üzerinden ayrı ayrı test ediniz."
   ]
  },
  {
   "cell_type": "code",
   "execution_count": 29,
   "metadata": {},
   "outputs": [
    {
     "name": "stdout",
     "output_type": "stream",
     "text": [
      "Test Stat = 0.9773, p-value = 0.5891\n"
     ]
    }
   ],
   "source": [
    "#H0: Normal dağılım varsayımı sağlanmaktadır.\n",
    "# H1: Normal dağılım varsayımı sağlanmamaktadır.\n",
    "#p-value < 0.05 ise H0 Reddedilir. \n",
    "# shapiro testini çağırıyoruz. grubun içindeki control olanları seçip purchase kolonuna getirecek. \n",
    "test_stat, pvalue = shapiro(df.loc[df[\"group\"] == \"control\", \"Purchase\"])\n",
    "print('Test Stat = %.4f, p-value = %.4f' % (test_stat, pvalue))\n",
    "# Aşağıdan görüldüğü üzere p-value 0.05ten büyük yani h0 reddedilemez. \n",
    "# Normallik varsayımı sağlanmaktadır. "
   ]
  },
  {
   "cell_type": "code",
   "execution_count": 33,
   "metadata": {},
   "outputs": [
    {
     "name": "stdout",
     "output_type": "stream",
     "text": [
      "Test Stat = 0.9589, p-value = 0.1541\n"
     ]
    }
   ],
   "source": [
    "# Yukardaki işlemin aynısını test grubu için de yapalım; \n",
    "# H0: Normal dağılım varsayımı sağlanmaktadır.\n",
    "# H1: Normal dağılım varsayımı sağlanmamaktadır.\n",
    "#p-value < 0.05 ise H0 Reddedilir. \n",
    "test_stat,pvalue = shapiro(df.loc[df[\"group\"] == \"test\", \"Purchase\"])\n",
    "print('Test Stat = %.4f, p-value = %.4f' % (test_stat, pvalue))\n",
    "# Aşağıda görüldüğü üzere p-value 0.05ten büyül yani h0 reddedilemez. \n",
    "# Varyanslar homojendir. \n",
    "#Normallik varsayımı sağlandığını görüşmüş olduk. Sağlanmıyor olsaydı nonparametrik bir test yönteminr geçmemiz gerekirdi. \n",
    "# Şimdi varyans homojenliğine bakacağız. "
   ]
  },
  {
   "cell_type": "code",
   "execution_count": 39,
   "metadata": {},
   "outputs": [
    {
     "name": "stdout",
     "output_type": "stream",
     "text": [
      "Test Stat = 2.6393, p-value = 0.1083\n"
     ]
    }
   ],
   "source": [
    "# Varyans Homojenliği :\n",
    "# H0: Varyanslarhomojendir.\n",
    "# H1: Varyanslarhomojen Değildir.\n",
    "# p < 0.05 H0 RED\n",
    "# Kontrol ve test grubu için varyans homojenliğinin sağlanıp sağlanmadığını Purchase değişkeni üzerinden test ediyoruz.\n",
    "\n",
    "test_stat, pvalue = levene(df.loc[df[\"group\"] == \"control\", \"Purchase\"],\n",
    "                           df.loc[df[\"group\"] == \"test\", \"Purchase\"])\n",
    "print('Test Stat = %.4f, p-value = %.4f' % (test_stat, pvalue))\n",
    "# p-value > 0.05 olduğu için h0 reddedilemez. Varyanslar homojendir. "
   ]
  },
  {
   "cell_type": "code",
   "execution_count": 43,
   "metadata": {},
   "outputs": [
    {
     "name": "stdout",
     "output_type": "stream",
     "text": [
      "Test Stat = -0.9416, p-value = 0.3493\n"
     ]
    }
   ],
   "source": [
    "# Görüldüğü üzere varyanslar homojen ve normal bir dağılım var bu sebeple bağımsız iki örneklem t testi(parametrik test) yapacağız.\n",
    "# H0: M1 = M2 (Kontrol grubu ve test grubu satın alma ortalamaları arasında ist. ol.anl.fark yoktur.)\n",
    "# H1: M1 != M2 (Kontrol grubu ve test grubu satın alma ortalamaları arasında ist. ol.anl.fark vardır)\n",
    "# p<0.05 HO RED\n",
    "test_stat, pvalue = ttest_ind(df.loc[df[\"group\"] == \"control\", \"Purchase\"],\n",
    "                              df.loc[df[\"group\"] == \"test\", \"Purchase\"],\n",
    "                              equal_var=True)\n",
    "\n",
    "print('Test Stat = %.4f, p-value = %.4f' % (test_stat, pvalue))\n",
    "# p-value > 0.05 h0 reddedilemez. \n",
    "# m1 ve m2 arasında istatistiksel olarak anlamlı bir fark yoktur. \n"
   ]
  },
  {
   "attachments": {},
   "cell_type": "markdown",
   "metadata": {},
   "source": [
    "        İlk önce iki gruba da normallik testi uyguladık. İki grubun da normal dağılımı(shapiro) uygun olduğu gözlemlendiği için ikinci varsayımımız olan varyans homojenliğini(levene) inceledik. Varyanslar da homojen olduğu için \"Bağımsız iki örneklem t testi\" uyguladık. Uygulama sonucunda da h0 > 0.05 gözlemlendi. Dolayısıyla h0'ı reddedemedik. İki örneklem arasında anlamlı bir fark yoktur dedik. \n"
   ]
  },
  {
   "attachments": {},
   "cell_type": "markdown",
   "metadata": {},
   "source": [
    "        ** Satın alma anlamından anlamlı bir fark olmadığı için müşteri iki yöntemi de seçebilir. Fakat burada diğer istatistikler de önem arz edebilir. "
   ]
  }
 ],
 "metadata": {
  "kernelspec": {
   "display_name": "Python 3",
   "language": "python",
   "name": "python3"
  },
  "language_info": {
   "codemirror_mode": {
    "name": "ipython",
    "version": 3
   },
   "file_extension": ".py",
   "mimetype": "text/x-python",
   "name": "python",
   "nbconvert_exporter": "python",
   "pygments_lexer": "ipython3",
   "version": "3.11.1"
  },
  "orig_nbformat": 4,
  "vscode": {
   "interpreter": {
    "hash": "aee8b7b246df8f9039afb4144a1f6fd8d2ca17a180786b69acc140d282b71a49"
   }
  }
 },
 "nbformat": 4,
 "nbformat_minor": 2
}
